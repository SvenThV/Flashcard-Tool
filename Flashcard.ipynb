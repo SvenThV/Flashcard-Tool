{
 "cells": [
  {
   "cell_type": "markdown",
   "metadata": {},
   "source": [
    "## Flash Card Tool: Knowledge Cards\n",
    "### Introduction\n",
    "This notebook will guide you through creating a Flash Card application using Tkinter in Python. The application allows you to add, view, flip, and remove flashcards."
   ]
  },
  {
   "cell_type": "markdown",
   "metadata": {},
   "source": [
    "### Step 1: Importing Required Libraries\n",
    "First, we need to import the necessary libraries. We'll use Tkinter for the graphical user interface and pickle for saving and loading flashcards."
   ]
  },
  {
   "cell_type": "code",
   "execution_count": 51,
   "metadata": {},
   "outputs": [],
   "source": [
    "import tkinter as tk\n",
    "from tkinter import messagebox\n",
    "import pickle\n",
    "import os"
   ]
  },
  {
   "cell_type": "markdown",
   "metadata": {},
   "source": [
    "### Step 2: Initialize Main Window\n",
    "We create the main window for our application."
   ]
  },
  {
   "cell_type": "code",
   "execution_count": 52,
   "metadata": {},
   "outputs": [
    {
     "data": {
      "text/plain": [
       "''"
      ]
     },
     "execution_count": 52,
     "metadata": {},
     "output_type": "execute_result"
    }
   ],
   "source": [
    "# Initialize main window\n",
    "root = tk.Tk()\n",
    "root.title(\"Knowledge Cards: Flash Card Tool\")\n",
    "root.geometry(\"420x420\")"
   ]
  },
  {
   "cell_type": "markdown",
   "metadata": {},
   "source": [
    "### Step 3: Initialize Global Variables\n",
    "We need some variables to store flashcards and track the current flashcard index."
   ]
  },
  {
   "cell_type": "code",
   "execution_count": 53,
   "metadata": {},
   "outputs": [],
   "source": [
    "# Initialize global variables\n",
    "flashcards = []\n",
    "current_card_index = 0\n",
    "front_text = tk.StringVar()\n",
    "back_text = tk.StringVar()\n",
    "current_card_side = 'front'"
   ]
  },
  {
   "cell_type": "markdown",
   "metadata": {},
   "source": [
    "### Step 4: Define Functions for Flashcard Operations\n",
    "These functions will handle saving, loading, adjusting entry size, adding, showing, navigating, marking known, and flipping flashcards."
   ]
  },
  {
   "cell_type": "code",
   "execution_count": 54,
   "metadata": {},
   "outputs": [],
   "source": [
    "def save_flashcards():\n",
    "    \"\"\"Save flashcards to a file.\"\"\"\n",
    "    with open(\"flashcards.pkl\", \"wb\") as f:\n",
    "        pickle.dump(flashcards, f)\n",
    "\n",
    "def load_flashcards():\n",
    "    \"\"\"Load flashcards from a file.\"\"\"\n",
    "    global flashcards\n",
    "    if os.path.exists(\"flashcards.pkl\"):\n",
    "        with open(\"flashcards.pkl\", \"rb\") as f:\n",
    "            flashcards = pickle.load(f)\n",
    "\n",
    "def adjust_entry_size(*args):\n",
    "    \"\"\"Adjust entry size based on text length.\"\"\"\n",
    "    front_length = len(front_text.get())\n",
    "    back_length = len(back_text.get())\n",
    "    front_entry.config(width=max(20, front_length))\n",
    "    back_entry.config(width=max(20, back_length))\n",
    "\n",
    "def add_card():\n",
    "    \"\"\"Add a new flashcard.\"\"\"\n",
    "    front = front_text.get()\n",
    "    back = back_text.get()\n",
    "    if front and back:\n",
    "        flashcards.append((front, back))\n",
    "        front_text.set(\"\")\n",
    "        back_text.set(\"\")\n",
    "        messagebox.showinfo(\"Success\", \"Flashcard added!\", parent=root)\n",
    "    else:\n",
    "        messagebox.showwarning(\"Input Error\", \"Both front and back text are required.\", parent=root)\n",
    "\n",
    "def show_card():\n",
    "    \"\"\"Show the current flashcard.\"\"\"\n",
    "    global current_card_side\n",
    "    if flashcards:\n",
    "        front, back = flashcards[current_card_index]\n",
    "        card_display.config(text=front)\n",
    "        current_card_side = 'front'\n",
    "    else:\n",
    "        messagebox.showwarning(\"No Cards\", \"There are no flashcards to show.\", parent=root)\n",
    "\n",
    "def next_card():\n",
    "    \"\"\"Go to the next flashcard.\"\"\"\n",
    "    global current_card_index\n",
    "    if flashcards:\n",
    "        current_card_index = (current_card_index + 1) % len(flashcards)\n",
    "        show_card()\n",
    "    else:\n",
    "        messagebox.showwarning(\"No Cards\", \"There are no flashcards to navigate.\", parent=root)\n",
    "\n",
    "def prev_card():\n",
    "    \"\"\"Go to the previous flashcard.\"\"\"\n",
    "    global current_card_index\n",
    "    if flashcards:\n",
    "        current_card_index = (current_card_index - 1) % len(flashcards)\n",
    "        show_card()\n",
    "    else:\n",
    "        messagebox.showwarning(\"No Cards\", \"There are no flashcards to navigate.\", parent=root)\n",
    "\n",
    "def mark_known():\n",
    "    \"\"\"Mark the current flashcard as known and remove it.\"\"\"\n",
    "    global current_card_index\n",
    "    if flashcards:\n",
    "        del flashcards[current_card_index]\n",
    "        if current_card_index >= len(flashcards):\n",
    "            current_card_index = 0\n",
    "        show_card()\n",
    "    else:\n",
    "        messagebox.showwarning(\"No Cards\", \"There are no flashcards to mark as known.\", parent=root)\n",
    "\n",
    "def flip_card():\n",
    "    \"\"\"Flip the current flashcard to show the back.\"\"\"\n",
    "    global current_card_side\n",
    "    if flashcards:\n",
    "        front, back = flashcards[current_card_index]\n",
    "        if current_card_side == 'front':\n",
    "            card_display.config(text=back)\n",
    "            current_card_side = 'back'\n",
    "        else:\n",
    "            card_display.config(text=front)\n",
    "            current_card_side = 'front'\n",
    "    else:\n",
    "        messagebox.showwarning(\"No Cards\", \"There are no flashcards to flip.\", parent=root)\n",
    "\n",
    "def on_closing():\n",
    "    \"\"\"Save flashcards and close the application.\"\"\"\n",
    "    save_flashcards()\n",
    "    root.destroy()"
   ]
  },
  {
   "cell_type": "markdown",
   "metadata": {},
   "source": [
    "### Step 5: Load Flashcards from File\n",
    "We load the saved flashcards when the application starts."
   ]
  },
  {
   "cell_type": "code",
   "execution_count": 55,
   "metadata": {},
   "outputs": [],
   "source": [
    "# Load flashcards\n",
    "load_flashcards()"
   ]
  },
  {
   "cell_type": "markdown",
   "metadata": {},
   "source": [
    "### Step 6: Set Up Fonts for the UI\n",
    "Define the fonts to be used in the application."
   ]
  },
  {
   "cell_type": "code",
   "execution_count": 56,
   "metadata": {},
   "outputs": [],
   "source": [
    "# Setup fonts\n",
    "label_font = (\"Helvetica\", 14)\n",
    "entry_font = (\"Helvetica\", 14)\n",
    "button_font = (\"Helvetica\", 12)"
   ]
  },
  {
   "cell_type": "markdown",
   "metadata": {},
   "source": [
    "### Step 7: Create the User Interface\n",
    "We set up the labels, entries, buttons, and display area for our application."
   ]
  },
  {
   "cell_type": "code",
   "execution_count": 57,
   "metadata": {},
   "outputs": [],
   "source": [
    "# UI setup\n",
    "tk.Label(root, text=\"Front:\", font=label_font).pack(pady=5)\n",
    "front_entry = tk.Entry(root, textvariable=front_text, font=entry_font, justify='center')\n",
    "front_entry.pack(pady=5)\n",
    "\n",
    "tk.Label(root, text=\"Back:\", font=label_font).pack(pady=5)\n",
    "back_entry = tk.Entry(root, textvariable=back_text, font=entry_font, justify='center')\n",
    "back_entry.pack(pady=5)\n",
    "\n",
    "add_button = tk.Button(root, text=\"Add Card\", command=add_card, font=button_font)\n",
    "add_button.pack(pady=5)\n",
    "\n",
    "buttons_frame = tk.Frame(root)\n",
    "buttons_frame.pack(pady=20)\n",
    "\n",
    "show_button = tk.Button(buttons_frame, text=\"Show Card\", command=show_card, font=button_font)\n",
    "show_button.pack(side=tk.LEFT, padx=5)\n",
    "\n",
    "next_button = tk.Button(buttons_frame, text=\"Next Card\", command=next_card, font=button_font)\n",
    "next_button.pack(side=tk.LEFT, padx=5)\n",
    "\n",
    "prev_button = tk.Button(buttons_frame, text=\"Previous Card\", command=prev_card, font=button_font)\n",
    "prev_button.pack(side=tk.LEFT, padx=5)\n",
    "\n",
    "known_button = tk.Button(buttons_frame, text=\"Known\", command=mark_known, font=button_font)\n",
    "known_button.pack(side=tk.LEFT, padx=5)\n",
    "\n",
    "card_display = tk.Label(root, text=\"\", font=(\"Helvetica\", 26))\n",
    "card_display.pack(pady=20)\n",
    "\n",
    "flip_button = tk.Button(root, text=\"Flip Card\", command=flip_card, font=button_font)\n",
    "flip_button.pack(side=tk.BOTTOM, pady=10)"
   ]
  },
  {
   "cell_type": "markdown",
   "metadata": {},
   "source": [
    "### Step 8: Bind Entry Size Adjustment\n",
    "We bind the `adjust_entry_size` function to changes in the text variables."
   ]
  },
  {
   "cell_type": "code",
   "execution_count": 58,
   "metadata": {},
   "outputs": [
    {
     "data": {
      "text/plain": [
       "'1745502119552adjust_entry_size'"
      ]
     },
     "execution_count": 58,
     "metadata": {},
     "output_type": "execute_result"
    }
   ],
   "source": [
    "# Bind entry size adjustment to changes in the text variables\n",
    "front_text.trace(\"w\", adjust_entry_size)\n",
    "back_text.trace(\"w\", adjust_entry_size)"
   ]
  },
  {
   "cell_type": "markdown",
   "metadata": {},
   "source": [
    "### Step 9: Handle Window Closing\n",
    "Ensure flashcards are saved when the window is closed."
   ]
  },
  {
   "cell_type": "code",
   "execution_count": 59,
   "metadata": {},
   "outputs": [
    {
     "data": {
      "text/plain": [
       "''"
      ]
     },
     "execution_count": 59,
     "metadata": {},
     "output_type": "execute_result"
    }
   ],
   "source": [
    "# Save flashcards on close\n",
    "root.protocol(\"WM_DELETE_WINDOW\", on_closing)"
   ]
  },
  {
   "cell_type": "markdown",
   "metadata": {},
   "source": [
    "### Step 10: Start the Main Loop\n",
    "Finally, we start the main loop to run the application."
   ]
  },
  {
   "cell_type": "code",
   "execution_count": 60,
   "metadata": {},
   "outputs": [],
   "source": [
    "root.mainloop()"
   ]
  }
 ],
 "metadata": {
  "kernelspec": {
   "display_name": "python",
   "language": "python",
   "name": "python3"
  },
  "language_info": {
   "codemirror_mode": {
    "name": "ipython",
    "version": 3
   },
   "file_extension": ".py",
   "mimetype": "text/x-python",
   "name": "python",
   "nbconvert_exporter": "python",
   "pygments_lexer": "ipython3",
   "version": "3.11.9"
  }
 },
 "nbformat": 4,
 "nbformat_minor": 2
}
